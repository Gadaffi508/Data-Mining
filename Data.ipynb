{
 "cells": [
  {
   "cell_type": "markdown",
   "metadata": {},
   "source": [
    "# Github Veri Çekme"
   ]
  },
  {
   "cell_type": "code",
   "execution_count": null,
   "metadata": {},
   "outputs": [],
   "source": [
    "pip install requests beautifulsoup4 pandas"
   ]
  },
  {
   "cell_type": "code",
   "execution_count": null,
   "metadata": {},
   "outputs": [],
   "source": [
    "import requests\n",
    "import pandas as pd\n",
    "\n",
    "# GitHub API URL'si\n",
    "url = \"https://api.github.com/orgs/Unity-Technologies/repos\"\n",
    "\n",
    "# GitHub Personal Access Token (kendi token'ını buraya ekle)\n",
    "\n",
    "# API isteği\n",
    "response = requests.get(url, headers=headers)\n",
    "repos = response.json()\n",
    "\n",
    "# Verileri işle\n",
    "data = []\n",
    "for repo in repos:\n",
    "    data.append({\n",
    "        \"Name\": repo[\"name\"],\n",
    "        \"Description\": repo[\"description\"] if repo[\"description\"] else \"No description\",\n",
    "        \"Stars\": repo[\"stargazers_count\"],\n",
    "        \"URL\": repo[\"html_url\"]\n",
    "    })\n",
    "\n",
    "# DataFrame oluştur ve CSV'ye kaydet\n",
    "df = pd.DataFrame(data)\n",
    "df.to_csv(\"github_unity_repositories_cleaned.csv\", index=False)\n",
    "\n",
    "# Sonuçları göster\n",
    "print(df)\n"
   ]
  }
 ],
 "metadata": {
  "kernelspec": {
   "display_name": "Python 3",
   "language": "python",
   "name": "python3"
  },
  "language_info": {
   "codemirror_mode": {
    "name": "ipython",
    "version": 3
   },
   "file_extension": ".py",
   "mimetype": "text/x-python",
   "name": "python",
   "nbconvert_exporter": "python",
   "pygments_lexer": "ipython3",
   "version": "3.10.11"
  }
 },
 "nbformat": 4,
 "nbformat_minor": 2
}
