{
 "cells": [
  {
   "cell_type": "markdown",
   "metadata": {},
   "source": [
    "# Github Veri Çekme"
   ]
  },
  {
   "cell_type": "code",
   "execution_count": null,
   "metadata": {},
   "outputs": [],
   "source": [
    "pip install requests beautifulsoup4 pandas"
   ]
  },
  {
   "cell_type": "code",
   "execution_count": null,
   "metadata": {},
   "outputs": [
    {
     "name": "stdout",
     "output_type": "stream",
     "text": [
      "Toplam veri sayısı: 773\n",
      "                     Name                                        Description  \\\n",
      "0             was_changed  A Gemplugin to extend ActiveRecord's dirty obj...   \n",
      "1            factory_girl                                     No description   \n",
      "2  validates_existence_of  A small plugin to validate the existence of an...   \n",
      "3                   panda                  Video encoding made easy with AWS   \n",
      "4           attachment_fu  Treat an ActiveRecord model as a file attachme...   \n",
      "\n",
      "   Stars                                                URL  \\\n",
      "0      1  https://github.com/Unity-Technologies/was_changed   \n",
      "1      3  https://github.com/Unity-Technologies/factory_...   \n",
      "2      2  https://github.com/Unity-Technologies/validate...   \n",
      "3      2        https://github.com/Unity-Technologies/panda   \n",
      "4      1  https://github.com/Unity-Technologies/attachme...   \n",
      "\n",
      "                                  Comment  \n",
      "0  Low popularity - General Unity package  \n",
      "1  Low popularity - General Unity package  \n",
      "2  Low popularity - General Unity package  \n",
      "3  Low popularity - General Unity package  \n",
      "4  Low popularity - General Unity package  \n"
     ]
    }
   ],
   "source": [
    "import requests\n",
    "import pandas as pd\n",
    "\n",
    "# GitHub API URL'si\n",
    "url = \"https://api.github.com/orgs/Unity-Technologies/repos\"\n",
    "\n",
    "# GitHub Personal Access Token (kendi token'ını buraya ekle)\n",
    "headers = \"Burada token var github kabul etmediği için yazamıyorum\"\n",
    "\n",
    "# Veri toplamak için boş bir liste oluştur\n",
    "all_data = []\n",
    "page = 1\n",
    "per_page = 100  # Bir seferde maksimum 100 sonuç\n",
    "\n",
    "# Tüm sayfaları çek\n",
    "while True:\n",
    "    response = requests.get(url, headers=headers, params={\"page\": page, \"per_page\": per_page})\n",
    "    repos = response.json()\n",
    "    \n",
    "    # Gelen sonuç boşsa (son sayfaya ulaşıldıysa) döngüyü kır\n",
    "    if not repos:\n",
    "        break\n",
    "\n",
    "    # Gelen verileri işleyip listeye ekle\n",
    "    for repo in repos:\n",
    "        all_data.append({\n",
    "            \"Name\": repo[\"name\"],\n",
    "            \"Description\": repo[\"description\"] if repo[\"description\"] else \"No description\",\n",
    "            \"Stars\": repo[\"stargazers_count\"],\n",
    "            \"URL\": repo[\"html_url\"]\n",
    "        })\n",
    "    \n",
    "    # Bir sonraki sayfaya geç\n",
    "    page += 1\n",
    "\n",
    "# DataFrame oluştur\n",
    "df = pd.DataFrame(all_data)\n",
    "\n",
    "# Yorumları oluşturma fonksiyonu\n",
    "def generate_comment(row):\n",
    "    stars = row[\"Stars\"]\n",
    "    description = row[\"Description\"].lower()\n",
    "    \n",
    "    # Yıldız sayısına göre yorum\n",
    "    if stars >= 1000:\n",
    "        star_comment = \"Very popular\"\n",
    "    elif stars >= 500:\n",
    "        star_comment = \"Popular\"\n",
    "    elif stars >= 100:\n",
    "        star_comment = \"Mid-level popularity\"\n",
    "    else:\n",
    "        star_comment = \"Low popularity\"\n",
    "    \n",
    "    # Unity paketine göre yorum\n",
    "    if \"render\" in description or \"graphics\" in description:\n",
    "        package_comment = \"Render or graphics package\"\n",
    "    elif \"physics\" in description:\n",
    "        package_comment = \"Physics package\"\n",
    "    elif \"tools\" in description:\n",
    "        package_comment = \"Vehicle package\"\n",
    "    elif \"ai\" in description:\n",
    "        package_comment = \"Artificial intelligence package\"\n",
    "    else:\n",
    "        package_comment = \"General Unity package\"\n",
    "    \n",
    "    return f\"{star_comment} - {package_comment}\"\n",
    "\n",
    "# Yeni sütun ekle\n",
    "df[\"Comment\"] = df.apply(generate_comment, axis=1)\n",
    "\n",
    "# CSV'ye kaydet\n",
    "df.to_csv(\"github_unity_repositories_with_comments.csv\", index=False)\n",
    "\n",
    "# Sonuçları göster\n",
    "print(f\"Toplam veri sayısı: {len(all_data)}\")\n",
    "print(df.head())\n"
   ]
  },
  {
   "cell_type": "code",
   "execution_count": null,
   "metadata": {},
   "outputs": [],
   "source": []
  }
 ],
 "metadata": {
  "kernelspec": {
   "display_name": "Python 3",
   "language": "python",
   "name": "python3"
  },
  "language_info": {
   "codemirror_mode": {
    "name": "ipython",
    "version": 3
   },
   "file_extension": ".py",
   "mimetype": "text/x-python",
   "name": "python",
   "nbconvert_exporter": "python",
   "pygments_lexer": "ipython3",
   "version": "3.10.11"
  }
 },
 "nbformat": 4,
 "nbformat_minor": 2
}
