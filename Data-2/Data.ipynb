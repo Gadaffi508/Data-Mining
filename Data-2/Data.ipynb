{
 "cells": [
  {
   "cell_type": "code",
   "execution_count": 8,
   "metadata": {},
   "outputs": [],
   "source": [
    "import pandas as pd\n",
    "\n",
    "df = pd.read_csv(\"github_unity_repositories_with_comments.csv\")"
   ]
  },
  {
   "cell_type": "code",
   "execution_count": 9,
   "metadata": {},
   "outputs": [
    {
     "name": "stdout",
     "output_type": "stream",
     "text": [
      "Veri Seti Boyutu: (773, 5)\n",
      "\n",
      "Sütunlar:\n",
      "Index(['Name', 'Description', 'Stars', 'URL', 'Comment'], dtype='object')\n"
     ]
    }
   ],
   "source": [
    "print(\"Veri Seti Boyutu:\", df.shape)\n",
    "print(\"\\nSütunlar:\")\n",
    "print(df.columns)"
   ]
  },
  {
   "cell_type": "code",
   "execution_count": 10,
   "metadata": {},
   "outputs": [
    {
     "name": "stdout",
     "output_type": "stream",
     "text": [
      "\n",
      "İlk 5 Satır:\n",
      "                     Name                                        Description  \\\n",
      "0             was_changed  A Gemplugin to extend ActiveRecord's dirty obj...   \n",
      "1            factory_girl                                     No description   \n",
      "2  validates_existence_of  A small plugin to validate the existence of an...   \n",
      "3                   panda                  Video encoding made easy with AWS   \n",
      "4           attachment_fu  Treat an ActiveRecord model as a file attachme...   \n",
      "\n",
      "   Stars                                                URL  \\\n",
      "0      1  https://github.com/Unity-Technologies/was_changed   \n",
      "1      3  https://github.com/Unity-Technologies/factory_...   \n",
      "2      2  https://github.com/Unity-Technologies/validate...   \n",
      "3      2        https://github.com/Unity-Technologies/panda   \n",
      "4      1  https://github.com/Unity-Technologies/attachme...   \n",
      "\n",
      "                                  Comment  \n",
      "0  Low popularity - General Unity package  \n",
      "1  Low popularity - General Unity package  \n",
      "2  Low popularity - General Unity package  \n",
      "3  Low popularity - General Unity package  \n",
      "4  Low popularity - General Unity package  \n"
     ]
    }
   ],
   "source": [
    "print(\"\\nİlk 5 Satır:\")\n",
    "print(df.head())"
   ]
  },
  {
   "cell_type": "code",
   "execution_count": 11,
   "metadata": {},
   "outputs": [
    {
     "name": "stdout",
     "output_type": "stream",
     "text": [
      "\n",
      "Yıldız Kategorilerine Göre Dağılım:\n",
      "Star_Category\n",
      "Düşük Popülerlik    593\n",
      "Orta Popüler        105\n",
      "Popüler              40\n",
      "Çok Popüler          35\n",
      "Name: Name, dtype: int64\n"
     ]
    }
   ],
   "source": [
    "def star_category(stars):\n",
    "    if stars >= 1000:\n",
    "        return \"Çok Popüler\"\n",
    "    elif stars >= 500:\n",
    "        return \"Popüler\"\n",
    "    elif stars >= 100:\n",
    "        return \"Orta Popüler\"\n",
    "    else:\n",
    "        return \"Düşük Popülerlik\"\n",
    "\n",
    "# Yeni sütun ekle\n",
    "df[\"Star_Category\"] = df[\"Stars\"].apply(star_category)\n",
    "\n",
    "# Kategorilere göre gruplama ve özet\n",
    "star_summary = df.groupby(\"Star_Category\")[\"Name\"].count()\n",
    "print(\"\\nYıldız Kategorilerine Göre Dağılım:\")\n",
    "print(star_summary)"
   ]
  },
  {
   "cell_type": "code",
   "execution_count": 12,
   "metadata": {},
   "outputs": [
    {
     "name": "stdout",
     "output_type": "stream",
     "text": [
      "\n",
      "Proje Kategorilerine Göre Dağılım:\n",
      "Project_Category\n",
      "Araç Paketi              21\n",
      "Fizik Paketi              3\n",
      "Genel Unity Paketi      677\n",
      "Render/Grafik Paketi     22\n",
      "Yapay Zeka Paketi        50\n",
      "Name: Name, dtype: int64\n"
     ]
    }
   ],
   "source": [
    "def project_category(description):\n",
    "    desc = description.lower()\n",
    "    if \"render\" in desc or \"graphics\" in desc:\n",
    "        return \"Render/Grafik Paketi\"\n",
    "    elif \"physics\" in desc:\n",
    "        return \"Fizik Paketi\"\n",
    "    elif \"tools\" in desc:\n",
    "        return \"Araç Paketi\"\n",
    "    elif \"ai\" in desc:\n",
    "        return \"Yapay Zeka Paketi\"\n",
    "    else:\n",
    "        return \"Genel Unity Paketi\"\n",
    "\n",
    "# Yeni kategori sütunu ekle\n",
    "df[\"Project_Category\"] = df[\"Description\"].apply(project_category)\n",
    "\n",
    "# Kategorilere göre gruplama ve özet\n",
    "category_summary = df.groupby(\"Project_Category\")[\"Name\"].count()\n",
    "print(\"\\nProje Kategorilerine Göre Dağılım:\")\n",
    "print(category_summary)"
   ]
  },
  {
   "cell_type": "code",
   "execution_count": 14,
   "metadata": {},
   "outputs": [
    {
     "name": "stdout",
     "output_type": "stream",
     "text": [
      "\n",
      "Önerilerle Birlikte Veri:\n",
      "                     Name  Stars    Project_Category          Recommendation\n",
      "0             was_changed      1  Genel Unity Paketi  Genel kullanıma uygun.\n",
      "1            factory_girl      3  Genel Unity Paketi  Genel kullanıma uygun.\n",
      "2  validates_existence_of      2  Genel Unity Paketi  Genel kullanıma uygun.\n",
      "3                   panda      2  Genel Unity Paketi  Genel kullanıma uygun.\n",
      "4           attachment_fu      1  Genel Unity Paketi  Genel kullanıma uygun.\n"
     ]
    }
   ],
   "source": [
    "# Her bir projeye öneri ekle\n",
    "def generate_recommendation(row):\n",
    "    if row[\"Stars\"] >= 1000:\n",
    "        return \"AAA oyunlar için önerilir.\"\n",
    "    elif row[\"Project_Category\"] == \"Araç Paketi\" and row[\"Stars\"] < 500:\n",
    "        return \"Yeni başlayanlar için önerilir.\"\n",
    "    elif row[\"Project_Category\"] == \"Yapay Zeka Paketi\":\n",
    "        return \"Gelişmiş oyun yapay zekası geliştirenler için önerilir.\"\n",
    "    else:\n",
    "        return \"Genel kullanıma uygun.\"\n",
    "\n",
    "# Öneri sütunu ekle\n",
    "df[\"Recommendation\"] = df.apply(generate_recommendation, axis=1)\n",
    "\n",
    "print(\"\\nÖnerilerle Birlikte Veri:\")\n",
    "print(df[[\"Name\", \"Stars\", \"Project_Category\", \"Recommendation\"]].head())"
   ]
  },
  {
   "cell_type": "code",
   "execution_count": 15,
   "metadata": {},
   "outputs": [
    {
     "name": "stdout",
     "output_type": "stream",
     "text": [
      "Collecting seaborn\n",
      "  Downloading seaborn-0.13.2-py3-none-any.whl.metadata (5.4 kB)\n",
      "Requirement already satisfied: numpy!=1.24.0,>=1.20 in c:\\users\\yusuf\\appdata\\local\\packages\\pythonsoftwarefoundation.python.3.10_qbz5n2kfra8p0\\localcache\\local-packages\\python310\\site-packages (from seaborn) (1.23.5)\n",
      "Requirement already satisfied: pandas>=1.2 in c:\\users\\yusuf\\appdata\\local\\packages\\pythonsoftwarefoundation.python.3.10_qbz5n2kfra8p0\\localcache\\local-packages\\python310\\site-packages (from seaborn) (2.2.1)\n",
      "Requirement already satisfied: matplotlib!=3.6.1,>=3.4 in c:\\users\\yusuf\\appdata\\local\\packages\\pythonsoftwarefoundation.python.3.10_qbz5n2kfra8p0\\localcache\\local-packages\\python310\\site-packages (from seaborn) (3.8.3)\n",
      "Requirement already satisfied: contourpy>=1.0.1 in c:\\users\\yusuf\\appdata\\local\\packages\\pythonsoftwarefoundation.python.3.10_qbz5n2kfra8p0\\localcache\\local-packages\\python310\\site-packages (from matplotlib!=3.6.1,>=3.4->seaborn) (1.2.1)\n",
      "Requirement already satisfied: cycler>=0.10 in c:\\users\\yusuf\\appdata\\local\\packages\\pythonsoftwarefoundation.python.3.10_qbz5n2kfra8p0\\localcache\\local-packages\\python310\\site-packages (from matplotlib!=3.6.1,>=3.4->seaborn) (0.12.1)\n",
      "Requirement already satisfied: fonttools>=4.22.0 in c:\\users\\yusuf\\appdata\\local\\packages\\pythonsoftwarefoundation.python.3.10_qbz5n2kfra8p0\\localcache\\local-packages\\python310\\site-packages (from matplotlib!=3.6.1,>=3.4->seaborn) (4.50.0)\n",
      "Requirement already satisfied: kiwisolver>=1.3.1 in c:\\users\\yusuf\\appdata\\local\\packages\\pythonsoftwarefoundation.python.3.10_qbz5n2kfra8p0\\localcache\\local-packages\\python310\\site-packages (from matplotlib!=3.6.1,>=3.4->seaborn) (1.4.5)\n",
      "Requirement already satisfied: packaging>=20.0 in c:\\users\\yusuf\\appdata\\local\\packages\\pythonsoftwarefoundation.python.3.10_qbz5n2kfra8p0\\localcache\\local-packages\\python310\\site-packages (from matplotlib!=3.6.1,>=3.4->seaborn) (23.1)\n",
      "Requirement already satisfied: pillow>=8 in c:\\users\\yusuf\\appdata\\local\\packages\\pythonsoftwarefoundation.python.3.10_qbz5n2kfra8p0\\localcache\\local-packages\\python310\\site-packages (from matplotlib!=3.6.1,>=3.4->seaborn) (10.2.0)\n",
      "Requirement already satisfied: pyparsing>=2.3.1 in c:\\users\\yusuf\\appdata\\local\\packages\\pythonsoftwarefoundation.python.3.10_qbz5n2kfra8p0\\localcache\\local-packages\\python310\\site-packages (from matplotlib!=3.6.1,>=3.4->seaborn) (3.1.2)\n",
      "Requirement already satisfied: python-dateutil>=2.7 in c:\\users\\yusuf\\appdata\\local\\packages\\pythonsoftwarefoundation.python.3.10_qbz5n2kfra8p0\\localcache\\local-packages\\python310\\site-packages (from matplotlib!=3.6.1,>=3.4->seaborn) (2.8.2)\n",
      "Requirement already satisfied: pytz>=2020.1 in c:\\users\\yusuf\\appdata\\local\\packages\\pythonsoftwarefoundation.python.3.10_qbz5n2kfra8p0\\localcache\\local-packages\\python310\\site-packages (from pandas>=1.2->seaborn) (2024.1)\n",
      "Requirement already satisfied: tzdata>=2022.7 in c:\\users\\yusuf\\appdata\\local\\packages\\pythonsoftwarefoundation.python.3.10_qbz5n2kfra8p0\\localcache\\local-packages\\python310\\site-packages (from pandas>=1.2->seaborn) (2024.1)\n",
      "Requirement already satisfied: six>=1.5 in c:\\users\\yusuf\\appdata\\local\\packages\\pythonsoftwarefoundation.python.3.10_qbz5n2kfra8p0\\localcache\\local-packages\\python310\\site-packages (from python-dateutil>=2.7->matplotlib!=3.6.1,>=3.4->seaborn) (1.16.0)\n",
      "Downloading seaborn-0.13.2-py3-none-any.whl (294 kB)\n",
      "   ---------------------------------------- 0.0/294.9 kB ? eta -:--:--\n",
      "   ---------------------------------------- 0.0/294.9 kB ? eta -:--:--\n",
      "   - -------------------------------------- 10.2/294.9 kB ? eta -:--:--\n",
      "   ---- ---------------------------------- 30.7/294.9 kB 262.6 kB/s eta 0:00:02\n",
      "   ----- --------------------------------- 41.0/294.9 kB 217.9 kB/s eta 0:00:02\n",
      "   ---------- ---------------------------- 81.9/294.9 kB 416.7 kB/s eta 0:00:01\n",
      "   ---------- ---------------------------- 81.9/294.9 kB 416.7 kB/s eta 0:00:01\n",
      "   -------------- ----------------------- 112.6/294.9 kB 364.4 kB/s eta 0:00:01\n",
      "   --------------------- ---------------- 163.8/294.9 kB 468.3 kB/s eta 0:00:01\n",
      "   ------------------------- ------------ 194.6/294.9 kB 535.8 kB/s eta 0:00:01\n",
      "   -------------------------- ----------- 204.8/294.9 kB 497.6 kB/s eta 0:00:01\n",
      "   ------------------------------- ------ 245.8/294.9 kB 519.9 kB/s eta 0:00:01\n",
      "   -------------------------------------- 294.9/294.9 kB 569.3 kB/s eta 0:00:00\n",
      "Installing collected packages: seaborn\n",
      "Successfully installed seaborn-0.13.2\n",
      "Note: you may need to restart the kernel to use updated packages.\n"
     ]
    },
    {
     "name": "stderr",
     "output_type": "stream",
     "text": [
      "\n",
      "[notice] A new release of pip is available: 24.0 -> 24.3.1\n",
      "[notice] To update, run: C:\\Users\\yusuf\\AppData\\Local\\Microsoft\\WindowsApps\\PythonSoftwareFoundation.Python.3.10_qbz5n2kfra8p0\\python.exe -m pip install --upgrade pip\n"
     ]
    }
   ],
   "source": [
    "pip install seaborn"
   ]
  },
  {
   "cell_type": "code",
   "execution_count": 16,
   "metadata": {},
   "outputs": [
    {
     "name": "stderr",
     "output_type": "stream",
     "text": [
      "C:\\Users\\yusuf\\AppData\\Local\\Temp\\ipykernel_3764\\556110789.py:6: FutureWarning: \n",
      "\n",
      "Passing `palette` without assigning `hue` is deprecated and will be removed in v0.14.0. Assign the `x` variable to `hue` and set `legend=False` for the same effect.\n",
      "\n",
      "  sns.countplot(data=df, x=\"Star_Category\", order=df[\"Star_Category\"].value_counts().index, palette=\"viridis\")\n"
     ]
    },
    {
     "data": {
      "image/png": "[encoded data removed]",
      "text/plain": [
       "<Figure size 800x600 with 1 Axes>"
      ]
     },
     "metadata": {},
     "output_type": "display_data"
    }
   ],
   "source": [
    "import matplotlib.pyplot as plt\n",
    "import seaborn as sns\n",
    "\n",
    "# Yıldız kategorisi dağılımı\n",
    "plt.figure(figsize=(8, 6))\n",
    "sns.countplot(data=df, x=\"Star_Category\", order=df[\"Star_Category\"].value_counts().index, palette=\"viridis\")\n",
    "plt.title(\"Yıldız Kategorilerine Göre Proje Dağılımı\")\n",
    "plt.xlabel(\"Yıldız Kategorisi\")\n",
    "plt.ylabel(\"Proje Sayısı\")\n",
    "plt.show()"
   ]
  },
  {
   "cell_type": "code",
   "execution_count": 17,
   "metadata": {},
   "outputs": [
    {
     "name": "stdout",
     "output_type": "stream",
     "text": [
      "Sonuçlar kaydedildi: github_unity_repositories_with_analysis.csv\n"
     ]
    }
   ],
   "source": [
    "# Final CSV kaydetme\n",
    "df.to_csv(\"github_unity_repositories_with_analysis.csv\", index=False)\n",
    "print(\"Sonuçlar kaydedildi: github_unity_repositories_with_analysis.csv\")"
   ]
  },
  {
   "cell_type": "code",
   "execution_count": null,
   "metadata": {},
   "outputs": [],
   "source": []
  }
 ],
 "metadata": {
  "kernelspec": {
   "display_name": "Python 3",
   "language": "python",
   "name": "python3"
  },
  "language_info": {
   "codemirror_mode": {
    "name": "ipython",
    "version": 3
   },
   "file_extension": ".py",
   "mimetype": "text/x-python",
   "name": "python",
   "nbconvert_exporter": "python",
   "pygments_lexer": "ipython3",
   "version": "3.10.11"
  }
 },
 "nbformat": 4,
 "nbformat_minor": 2
}
